{
 "cells": [
  {
   "cell_type": "code",
   "execution_count": 1,
   "id": "72793e08-9c2b-402b-a4eb-ba5919faf8ee",
   "metadata": {},
   "outputs": [],
   "source": [
    "import numpy as np\n",
    "import matplotlib.pyplot as plt\n",
    "from matplotlib.pyplot import cm\n",
    "import pickle\n",
    "import sys, os, time\n",
    "\n",
    "sys.path.append(os.path.abspath(\"../../src\"))\n",
    "from SegLabel import SegLabel\n",
    "\n",
    "from common import get_counts, linear_ramp_params_customized"
   ]
  },
  {
   "cell_type": "code",
   "execution_count": 2,
   "id": "82a60b3b-b0c3-48cf-bca1-290a93705ada",
   "metadata": {},
   "outputs": [],
   "source": [
    "from qiskit_optimization.converters import QuadraticProgramToQubo\n",
    "from qiskit_optimization.translators import from_docplex_mp\n",
    "\n",
    "from qiskit.algorithms import VQE\n",
    "from qiskit.algorithms.optimizers import COBYLA\n",
    "from qiskit.circuit.library.n_local.qaoa_ansatz import QAOAAnsatz\n",
    "\n",
    "from qiskit import Aer\n",
    "from qiskit.utils import algorithm_globals, QuantumInstance"
   ]
  },
  {
   "cell_type": "markdown",
   "id": "fa53cfd8-9053-47b3-b2b8-87706268b6d5",
   "metadata": {},
   "source": [
    "## Model"
   ]
  },
  {
   "cell_type": "code",
   "execution_count": 3,
   "id": "7049d4f8-1330-4962-bdf5-7b22f3cb32d5",
   "metadata": {
    "tags": []
   },
   "outputs": [
    {
     "name": "stdout",
     "output_type": "stream",
     "text": [
      "B:\n",
      "  shape:  (4, 4, 2, 2)\n",
      "  min/max:  -2.0 26.0\n",
      "A:\n",
      "  shape:  (4, 2)\n",
      "  min/max:  -6.0 26.0\n",
      "\n",
      "Segmentation and Labeling Problem initialization:\n",
      "  Number of nodes:  4\n",
      "  Number of labels:  2\n",
      "  Maximum number of segments:  2\n"
     ]
    }
   ],
   "source": [
    "from SegmentationAndLabeling_NEW_VERSION import SegmentationAndLabeling\n",
    "\n",
    "# read the data\n",
    "with open(\"018340451_hipster_SegLabelData.pickle\", \"rb\") as f:\n",
    "    segLabel = pickle.load(f)\n",
    "\n",
    "# beta_dc_d'c'u\n",
    "B = segLabel.betas.copy()\n",
    "B = np.nan_to_num(B, nan=0.0)\n",
    "B_max = np.max(B)\n",
    "\n",
    "print(\"B:\")\n",
    "print(\"  shape: \", np.shape(B))\n",
    "print(\"  min/max: \", np.min(B), B_max)\n",
    "\n",
    "# alpha_dc\n",
    "A = segLabel.alphas.copy()\n",
    "A = np.nan_to_num(A, nan=0.0)\n",
    "A_max = B_max\n",
    "A[A > A_max] = A_max  # truncate too high values\n",
    "\n",
    "print(\"A:\")\n",
    "print(\"  shape: \", np.shape(A))\n",
    "print(\"  min/max: \", np.min(A), np.max(A))\n",
    "print(\"\")\n",
    "\n",
    "max_num_segments = segLabel.max_num_persons\n",
    "suppress = False\n",
    "\n",
    "model = SegmentationAndLabeling(\n",
    "    A=A, B=B,\n",
    "    max_num_segments=max_num_segments,\n",
    "    suppress=suppress,\n",
    "    class_reindex={v: k for k, v in segLabel.map_DNNclass_reindex.items()},\n",
    ")"
   ]
  },
  {
   "cell_type": "markdown",
   "id": "a8713bf7-4423-4f24-8b80-ffcdd06b7058",
   "metadata": {},
   "source": [
    "### Classical (reference) solution"
   ]
  },
  {
   "cell_type": "code",
   "execution_count": 4,
   "id": "cb985fba-89cc-43e4-b0ed-c2cae632f120",
   "metadata": {},
   "outputs": [
    {
     "name": "stdout",
     "output_type": "stream",
     "text": [
      "automatic C=max(B)= 26.0\n",
      "Model: Segmentation and Labeling\n",
      " - number of variables: 16\n",
      "   - binary=16, integer=0, continuous=0\n",
      " - number of constraints: 0\n",
      "   - linear=0\n",
      " - parameters: defaults\n",
      " - objective: minimize quadratic\n",
      " - problem type is: MIQP\n",
      "objective: -15.000\n",
      "status: OPTIMAL_SOLUTION(2)\n",
      "  x_0_0_0=1\n",
      "  x_1_0_1=1\n",
      "  x_2_1_0=1\n",
      "  x_3_1_1=1\n"
     ]
    }
   ],
   "source": [
    "C = B_max\n",
    "\n",
    "# Build the DOcplex model of the S&L problem\n",
    "mdl = model.build_model(C=C)  # enable constraints\n",
    "mdl.solve()\n",
    "mdl.print_information()\n",
    "mdl.print_solution()\n",
    "\n",
    "x = np.zeros(mdl.number_of_binary_variables)\n",
    "for v in mdl.iter_binary_vars():\n",
    "    x[v.index] = v.solution_value\n",
    "# print(x)\n",
    "\n",
    "obj_exact = mdl.objective_value\n",
    "x_exact = x"
   ]
  },
  {
   "cell_type": "code",
   "execution_count": 5,
   "id": "0a0e32b9-831f-41ec-a7e6-0029c7a97d8d",
   "metadata": {
    "tags": []
   },
   "outputs": [
    {
     "data": {
      "image/png": "[encoded data removed]",
      "text/plain": [
       "<Figure size 500x500 with 1 Axes>"
      ]
     },
     "metadata": {},
     "output_type": "display_data"
    }
   ],
   "source": [
    "fig = plt.figure(figsize=(5, 5), frameon=False)\n",
    "ax = fig.add_subplot(1, 1, 1)  # nrows, ncols, index\n",
    "ax.set_facecolor(\"lightcyan\")\n",
    "\n",
    "model.draw_solution(\n",
    "    ax,\n",
    "    x_exact,\n",
    "    node_size=1000,\n",
    "    width=2,\n",
    "    alpha=1.0,\n",
    ")\n",
    "\n",
    "plt.show()"
   ]
  },
  {
   "cell_type": "markdown",
   "id": "e276c431-be2d-4fb1-a71b-4720027cca5b",
   "metadata": {},
   "source": [
    "### QUBO matrix setup"
   ]
  },
  {
   "cell_type": "code",
   "execution_count": 6,
   "id": "8e46b057-fc10-4435-9639-1e3e8ff06382",
   "metadata": {},
   "outputs": [
    {
     "name": "stdout",
     "output_type": "stream",
     "text": [
      "Offset: 6.542857142857143\n"
     ]
    }
   ],
   "source": [
    "mdl = model.build_model(C=0.0)  # disable constraints\n",
    "mdl_qp = from_docplex_mp(mdl)\n",
    "# print(mdl_qp.prettyprint())\n",
    "\n",
    "mdl_qubo = QuadraticProgramToQubo().convert(mdl_qp)\n",
    "\n",
    "qubitOp, offset = mdl_qubo.to_ising()\n",
    "\n",
    "if True:\n",
    "    # normalize the Hamiltonian\n",
    "    w_max = np.max(np.abs(qubitOp.primitive.coeffs))\n",
    "    qubitOp.primitive.coeffs /= w_max\n",
    "    offset /= w_max\n",
    "\n",
    "print(\"Offset:\", offset)\n",
    "# print(\"Ising Hamiltonian:\\n\", str(qubitOp))"
   ]
  },
  {
   "cell_type": "code",
   "execution_count": 7,
   "id": "7e995537-f023-4410-9e66-273c171937de",
   "metadata": {},
   "outputs": [
    {
     "name": "stdout",
     "output_type": "stream",
     "text": [
      "Number of quadratic terms:  30\n",
      "QUBO matrix sparsity:  0.25\n"
     ]
    }
   ],
   "source": [
    "# QUBO matrix info\n",
    "q2 = mdl_qubo.objective.quadratic.to_dict()\n",
    "num_qubits = qubitOp.num_qubits\n",
    "num_q2 = len(q2) - num_qubits\n",
    "print(\"Number of quadratic terms: \", num_q2)\n",
    "print(\"QUBO matrix sparsity: \", num_q2 / (num_qubits * (num_qubits - 1) * 0.5))"
   ]
  },
  {
   "cell_type": "markdown",
   "id": "a35ebedf-a11c-4fcb-9506-1a7807aec70e",
   "metadata": {},
   "source": [
    "## QAOA"
   ]
  },
  {
   "cell_type": "code",
   "execution_count": 8,
   "id": "9c20b0ce-371f-4ae1-b950-b6e8dd1cf004",
   "metadata": {
    "tags": []
   },
   "outputs": [],
   "source": [
    "n_shots = 1024\n",
    "\n",
    "seed = 12345\n",
    "algorithm_globals.random_seed = seed\n",
    "backend = Aer.get_backend(\"qasm_simulator\")\n",
    "quantum_instance = QuantumInstance(\n",
    "    backend, seed_simulator=seed, seed_transpiler=seed, shots=n_shots\n",
    ")"
   ]
  },
  {
   "cell_type": "code",
   "execution_count": 9,
   "id": "33d49d53-f1ec-427e-a72d-0ab410f95362",
   "metadata": {
    "tags": []
   },
   "outputs": [
    {
     "name": "stdout",
     "output_type": "stream",
     "text": [
      "        ┌──────────┐                                     ┌─────────┐     \n",
      " q_0: ──┤ Ry(-π/4) ├───────────────────────────────────■─┤ Ry(π/4) ├──■──\n",
      "      ┌─┴──────────┴─┐                 ┌─────────────┐ │ └─────────┘┌─┴─┐\n",
      " q_1: ┤ Ry(-0.95532) ├───────────────■─┤ Ry(0.95532) ├─■──────■─────┤ X ├\n",
      "      └─┬──────────┬─┘   ┌─────────┐ │ └─────────────┘      ┌─┴─┐   └───┘\n",
      " q_2: ──┤ Ry(-π/3) ├───■─┤ Ry(π/3) ├─■────────■─────────────┤ X ├────────\n",
      "        └──┬───┬───┘   │ └─────────┘        ┌─┴─┐           └───┘        \n",
      " q_3: ─────┤ X ├───────■────────────────────┤ X ├────────────────────────\n",
      "        ┌──┴───┴───┐                        └───┘        ┌─────────┐     \n",
      " q_4: ──┤ Ry(-π/4) ├───────────────────────────────────■─┤ Ry(π/4) ├──■──\n",
      "      ┌─┴──────────┴─┐                 ┌─────────────┐ │ └─────────┘┌─┴─┐\n",
      " q_5: ┤ Ry(-0.95532) ├───────────────■─┤ Ry(0.95532) ├─■──────■─────┤ X ├\n",
      "      └─┬──────────┬─┘   ┌─────────┐ │ └─────────────┘      ┌─┴─┐   └───┘\n",
      " q_6: ──┤ Ry(-π/3) ├───■─┤ Ry(π/3) ├─■────────■─────────────┤ X ├────────\n",
      "        └──┬───┬───┘   │ └─────────┘        ┌─┴─┐           └───┘        \n",
      " q_7: ─────┤ X ├───────■────────────────────┤ X ├────────────────────────\n",
      "        ┌──┴───┴───┐                        └───┘        ┌─────────┐     \n",
      " q_8: ──┤ Ry(-π/4) ├───────────────────────────────────■─┤ Ry(π/4) ├──■──\n",
      "      ┌─┴──────────┴─┐                 ┌─────────────┐ │ └─────────┘┌─┴─┐\n",
      " q_9: ┤ Ry(-0.95532) ├───────────────■─┤ Ry(0.95532) ├─■──────■─────┤ X ├\n",
      "      └─┬──────────┬─┘   ┌─────────┐ │ └─────────────┘      ┌─┴─┐   └───┘\n",
      "q_10: ──┤ Ry(-π/3) ├───■─┤ Ry(π/3) ├─■────────■─────────────┤ X ├────────\n",
      "        └──┬───┬───┘   │ └─────────┘        ┌─┴─┐           └───┘        \n",
      "q_11: ─────┤ X ├───────■────────────────────┤ X ├────────────────────────\n",
      "        ┌──┴───┴───┐                        └───┘        ┌─────────┐     \n",
      "q_12: ──┤ Ry(-π/4) ├───────────────────────────────────■─┤ Ry(π/4) ├──■──\n",
      "      ┌─┴──────────┴─┐                 ┌─────────────┐ │ └─────────┘┌─┴─┐\n",
      "q_13: ┤ Ry(-0.95532) ├───────────────■─┤ Ry(0.95532) ├─■──────■─────┤ X ├\n",
      "      └─┬──────────┬─┘   ┌─────────┐ │ └─────────────┘      ┌─┴─┐   └───┘\n",
      "q_14: ──┤ Ry(-π/3) ├───■─┤ Ry(π/3) ├─■────────■─────────────┤ X ├────────\n",
      "        └──┬───┬───┘   │ └─────────┘        ┌─┴─┐           └───┘        \n",
      "q_15: ─────┤ X ├───────■────────────────────┤ X ├────────────────────────\n",
      "           └───┘                            └───┘                        \n"
     ]
    }
   ],
   "source": [
    "from mixers_NEW_VERSION import xy_mixer_initial_state\n",
    "\n",
    "initial_state = xy_mixer_initial_state(model.num_nodes, model.num_labels * model.num_segments, suppress=suppress)\n",
    "print(initial_state.draw())"
   ]
  },
  {
   "cell_type": "code",
   "execution_count": 10,
   "id": "ab0ec464-944d-4c7d-be90-a404d76461d3",
   "metadata": {
    "tags": []
   },
   "outputs": [
    {
     "name": "stdout",
     "output_type": "stream",
     "text": [
      "           ┌──────────┐          ┌──────────┐               ┌──────────┐»\n",
      " q_0: ──■──┤ Rx(-2*β) ├──■────■──┤ Rx(-2*β) ├──■────■───────┤ Rx(-2*β) ├»\n",
      "      ┌─┴─┐└────┬─────┘┌─┴─┐  │  └────┬─────┘  │    │       └────┬─────┘»\n",
      " q_1: ┤ X ├─────■──────┤ X ├──┼───────┼────────┼────┼────■───────┼──────»\n",
      "      └───┘            └───┘┌─┴─┐     │      ┌─┴─┐  │  ┌─┴─┐     │      »\n",
      " q_2: ──────────────────────┤ X ├─────■──────┤ X ├──┼──┤ X ├─────┼──────»\n",
      "                            └───┘            └───┘┌─┴─┐└───┘     │      »\n",
      " q_3: ────────────────────────────────────────────┤ X ├──────────■──────»\n",
      "           ┌──────────┐          ┌──────────┐     └───┘     ┌──────────┐»\n",
      " q_4: ──■──┤ Rx(-2*β) ├──■────■──┤ Rx(-2*β) ├──■────■───────┤ Rx(-2*β) ├»\n",
      "      ┌─┴─┐└────┬─────┘┌─┴─┐  │  └────┬─────┘  │    │       └────┬─────┘»\n",
      " q_5: ┤ X ├─────■──────┤ X ├──┼───────┼────────┼────┼────■───────┼──────»\n",
      "      └───┘            └───┘┌─┴─┐     │      ┌─┴─┐  │  ┌─┴─┐     │      »\n",
      " q_6: ──────────────────────┤ X ├─────■──────┤ X ├──┼──┤ X ├─────┼──────»\n",
      "                            └───┘            └───┘┌─┴─┐└───┘     │      »\n",
      " q_7: ────────────────────────────────────────────┤ X ├──────────■──────»\n",
      "           ┌──────────┐          ┌──────────┐     └───┘     ┌──────────┐»\n",
      " q_8: ──■──┤ Rx(-2*β) ├──■────■──┤ Rx(-2*β) ├──■────■───────┤ Rx(-2*β) ├»\n",
      "      ┌─┴─┐└────┬─────┘┌─┴─┐  │  └────┬─────┘  │    │       └────┬─────┘»\n",
      " q_9: ┤ X ├─────■──────┤ X ├──┼───────┼────────┼────┼────■───────┼──────»\n",
      "      └───┘            └───┘┌─┴─┐     │      ┌─┴─┐  │  ┌─┴─┐     │      »\n",
      "q_10: ──────────────────────┤ X ├─────■──────┤ X ├──┼──┤ X ├─────┼──────»\n",
      "                            └───┘            └───┘┌─┴─┐└───┘     │      »\n",
      "q_11: ────────────────────────────────────────────┤ X ├──────────■──────»\n",
      "           ┌──────────┐          ┌──────────┐     └───┘     ┌──────────┐»\n",
      "q_12: ──■──┤ Rx(-2*β) ├──■────■──┤ Rx(-2*β) ├──■────■───────┤ Rx(-2*β) ├»\n",
      "      ┌─┴─┐└────┬─────┘┌─┴─┐  │  └────┬─────┘  │    │       └────┬─────┘»\n",
      "q_13: ┤ X ├─────■──────┤ X ├──┼───────┼────────┼────┼────■───────┼──────»\n",
      "      └───┘            └───┘┌─┴─┐     │      ┌─┴─┐  │  ┌─┴─┐     │      »\n",
      "q_14: ──────────────────────┤ X ├─────■──────┤ X ├──┼──┤ X ├─────┼──────»\n",
      "                            └───┘            └───┘┌─┴─┐└───┘     │      »\n",
      "q_15: ────────────────────────────────────────────┤ X ├──────────■──────»\n",
      "                                                  └───┘                 »\n",
      "«                                                                        \n",
      "« q_0: ──────────────■───────────────────────────────────────────────────\n",
      "«      ┌──────────┐  │            ┌──────────┐                           \n",
      "« q_1: ┤ Rx(-2*β) ├──┼────■────■──┤ Rx(-2*β) ├──■────────────────────────\n",
      "«      └────┬─────┘  │  ┌─┴─┐  │  └────┬─────┘  │       ┌──────────┐     \n",
      "« q_2: ─────■────────┼──┤ X ├──┼───────┼────────┼────■──┤ Rx(-2*β) ├──■──\n",
      "«                  ┌─┴─┐└───┘┌─┴─┐     │      ┌─┴─┐┌─┴─┐└────┬─────┘┌─┴─┐\n",
      "« q_3: ────────────┤ X ├─────┤ X ├─────■──────┤ X ├┤ X ├─────■──────┤ X ├\n",
      "«                  └───┘     └───┘            └───┘└───┘            └───┘\n",
      "« q_4: ──────────────■───────────────────────────────────────────────────\n",
      "«      ┌──────────┐  │            ┌──────────┐                           \n",
      "« q_5: ┤ Rx(-2*β) ├──┼────■────■──┤ Rx(-2*β) ├──■────────────────────────\n",
      "«      └────┬─────┘  │  ┌─┴─┐  │  └────┬─────┘  │       ┌──────────┐     \n",
      "« q_6: ─────■────────┼──┤ X ├──┼───────┼────────┼────■──┤ Rx(-2*β) ├──■──\n",
      "«                  ┌─┴─┐└───┘┌─┴─┐     │      ┌─┴─┐┌─┴─┐└────┬─────┘┌─┴─┐\n",
      "« q_7: ────────────┤ X ├─────┤ X ├─────■──────┤ X ├┤ X ├─────■──────┤ X ├\n",
      "«                  └───┘     └───┘            └───┘└───┘            └───┘\n",
      "« q_8: ──────────────■───────────────────────────────────────────────────\n",
      "«      ┌──────────┐  │            ┌──────────┐                           \n",
      "« q_9: ┤ Rx(-2*β) ├──┼────■────■──┤ Rx(-2*β) ├──■────────────────────────\n",
      "«      └────┬─────┘  │  ┌─┴─┐  │  └────┬─────┘  │       ┌──────────┐     \n",
      "«q_10: ─────■────────┼──┤ X ├──┼───────┼────────┼────■──┤ Rx(-2*β) ├──■──\n",
      "«                  ┌─┴─┐└───┘┌─┴─┐     │      ┌─┴─┐┌─┴─┐└────┬─────┘┌─┴─┐\n",
      "«q_11: ────────────┤ X ├─────┤ X ├─────■──────┤ X ├┤ X ├─────■──────┤ X ├\n",
      "«                  └───┘     └───┘            └───┘└───┘            └───┘\n",
      "«q_12: ──────────────■───────────────────────────────────────────────────\n",
      "«      ┌──────────┐  │            ┌──────────┐                           \n",
      "«q_13: ┤ Rx(-2*β) ├──┼────■────■──┤ Rx(-2*β) ├──■────────────────────────\n",
      "«      └────┬─────┘  │  ┌─┴─┐  │  └────┬─────┘  │       ┌──────────┐     \n",
      "«q_14: ─────■────────┼──┤ X ├──┼───────┼────────┼────■──┤ Rx(-2*β) ├──■──\n",
      "«                  ┌─┴─┐└───┘┌─┴─┐     │      ┌─┴─┐┌─┴─┐└────┬─────┘┌─┴─┐\n",
      "«q_15: ────────────┤ X ├─────┤ X ├─────■──────┤ X ├┤ X ├─────■──────┤ X ├\n",
      "«                  └───┘     └───┘            └───┘└───┘            └───┘\n"
     ]
    }
   ],
   "source": [
    "from mixers_NEW_VERSION import xy_mixer\n",
    "\n",
    "mixer = xy_mixer(model.num_nodes, model.num_labels * model.num_segments, suppress=suppress)\n",
    "print(mixer.draw())"
   ]
  },
  {
   "cell_type": "code",
   "execution_count": 30,
   "id": "91ef533e-97eb-4465-a171-c090cd147a10",
   "metadata": {
    "tags": []
   },
   "outputs": [
    {
     "name": "stdout",
     "output_type": "stream",
     "text": [
      "Initial parameters:  [0.3080304474862124, 1.0013417855242948]\n",
      "Optimized parameters:  [0.32266678328905796, 0.2578212059418595, 0.6564294401405417, 1.1954863995093472]\n"
     ]
    }
   ],
   "source": [
    "reps = 2\n",
    "\n",
    "qc = QAOAAnsatz(\n",
    "    qubitOp, reps=reps, \n",
    "    initial_state=initial_state, \n",
    "    mixer_operator=mixer\n",
    ")\n",
    "\n",
    "init_params = linear_ramp_params_customized(p=reps, beta_scale=0.5, gamma_scale=2.0)\n",
    "print(\"Initial parameters: \", params)\n",
    "\n",
    "qaoa = VQE(\n",
    "    ansatz=qc,\n",
    "    quantum_instance=quantum_instance,\n",
    "    optimizer=COBYLA(maxiter=1000, tol=1e-4),\n",
    "    initial_point=init_params,\n",
    ")\n",
    "\n",
    "qaoa_results = qaoa.compute_minimum_eigenvalue(qubitOp)\n",
    "\n",
    "params = list(qaoa_results.optimal_parameters.values())\n",
    "print(\"Optimized parameters: \", params)"
   ]
  },
  {
   "cell_type": "code",
   "execution_count": 34,
   "id": "5025d995-1cba-4270-8a0f-e19ce7632378",
   "metadata": {
    "tags": []
   },
   "outputs": [
    {
     "name": "stdout",
     "output_type": "stream",
     "text": [
      "Success probability:  0.1375\n"
     ]
    }
   ],
   "source": [
    "n_reads = 10_000\n",
    "\n",
    "# QAOA circuit sampler\n",
    "counts = get_counts(\n",
    "    qc,\n",
    "    params,\n",
    "    backend=backend,\n",
    "    n_shots=n_reads,\n",
    "    seed=seed,\n",
    ")\n",
    "\n",
    "sols = []\n",
    "for s, p in counts.items():\n",
    "    x = [int(i) for i in reversed(list(s))]\n",
    "    obj = mdl_qubo.objective.evaluate(x)\n",
    "    sols.append({\"x\": x, \"prob\": p / n_reads, \"obj\": obj, \"feas\": model.is_valid(x)})\n",
    "sols = sorted(sols, key=lambda k: k[\"obj\"]) # sort by objective values\n",
    "\n",
    "# compute success probability\n",
    "sprob = np.sum([item['prob'] for item in sols if np.isclose(item['obj'], obj_exact)])\n",
    "print(\"Success probability: \", sprob)"
   ]
  },
  {
   "cell_type": "code",
   "execution_count": 33,
   "id": "e986eca6-3b39-439b-934f-03a6cf5c2898",
   "metadata": {},
   "outputs": [
    {
     "data": {
      "image/png": "[encoded data removed]",
      "text/plain": [
       "<Figure size 1100x500 with 2 Axes>"
      ]
     },
     "metadata": {},
     "output_type": "display_data"
    }
   ],
   "source": [
    "fig, ax = plt.subplots(1, 2, figsize=(11, 5))\n",
    "\n",
    "objs = [v[\"obj\"] for v in sols]\n",
    "probs = [v[\"prob\"] for v in sols]\n",
    "\n",
    "objs_feas = [v[\"obj\"] for v in sols if v[\"feas\"]]\n",
    "probs_feas = [v[\"prob\"] for v in sols if v[\"feas\"]]\n",
    "\n",
    "ax[0].plot(objs, c=\"k\", lw=2, label=\"neal\")\n",
    "ax[0].set_xlabel(\"Solutions\", fontsize=18)\n",
    "ax[0].set_ylabel(\"Objective\", fontsize=18)\n",
    "\n",
    "width = 0.5\n",
    "ax[1].bar(objs, probs, width=width, color=\"grey\", alpha=0.9)\n",
    "ax[1].bar(objs_feas, probs_feas, width=width, color=\"b\", alpha=0.9)\n",
    "ax[1].set_xlabel(\"Objective\", fontsize=18)\n",
    "ax[1].set_ylabel(\"Probability\", fontsize=18)\n",
    "\n",
    "ax[1].axvline(x=obj_exact, c=\"k\", ls=\":\", lw=3)\n",
    "\n",
    "ax[1].set_xlim([-20, 50])\n",
    "\n",
    "plt.tight_layout()\n",
    "plt.show()"
   ]
  },
  {
   "cell_type": "code",
   "execution_count": null,
   "id": "b1585726-c2ae-4ca8-8120-633a19b64c22",
   "metadata": {},
   "outputs": [],
   "source": []
  }
 ],
 "metadata": {
  "kernelspec": {
   "display_name": "dwave",
   "language": "python",
   "name": "dwave"
  },
  "language_info": {
   "codemirror_mode": {
    "name": "ipython",
    "version": 3
   },
   "file_extension": ".py",
   "mimetype": "text/x-python",
   "name": "python",
   "nbconvert_exporter": "python",
   "pygments_lexer": "ipython3",
   "version": "3.10.9"
  }
 },
 "nbformat": 4,
 "nbformat_minor": 5
}
