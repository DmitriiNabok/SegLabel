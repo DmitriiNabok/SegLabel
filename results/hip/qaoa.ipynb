{
 "cells": [
  {
   "cell_type": "code",
   "execution_count": 2,
   "id": "72793e08-9c2b-402b-a4eb-ba5919faf8ee",
   "metadata": {},
   "outputs": [],
   "source": [
    "import numpy as np\n",
    "import matplotlib.pyplot as plt\n",
    "from matplotlib.pyplot import cm\n",
    "import pickle\n",
    "import sys, os, time\n",
    "\n",
    "sys.path.append(os.path.abspath(\"../../src\"))\n",
    "from SegLabel_DataClass import SegLabel\n",
    "from common import get_counts, linear_ramp_params_customized"
   ]
  },
  {
   "cell_type": "code",
   "execution_count": 2,
   "id": "82a60b3b-b0c3-48cf-bca1-290a93705ada",
   "metadata": {},
   "outputs": [],
   "source": [
    "from qiskit_optimization.converters import QuadraticProgramToQubo\n",
    "from qiskit_optimization.translators import from_docplex_mp\n",
    "\n",
    "from qiskit.algorithms import VQE\n",
    "from qiskit.algorithms.optimizers import COBYLA\n",
    "from qiskit.circuit.library.n_local.qaoa_ansatz import QAOAAnsatz\n",
    "\n",
    "from qiskit import Aer\n",
    "from qiskit.utils import algorithm_globals, QuantumInstance"
   ]
  },
  {
   "cell_type": "markdown",
   "id": "fa53cfd8-9053-47b3-b2b8-87706268b6d5",
   "metadata": {},
   "source": [
    "## Model"
   ]
  },
  {
   "cell_type": "code",
   "execution_count": 3,
   "id": "b3de03b1-7509-4693-8026-eae0a7237512",
   "metadata": {
    "tags": []
   },
   "outputs": [
    {
     "name": "stdout",
     "output_type": "stream",
     "text": [
      "B:\n",
      "  shape:  (4, 4, 2, 2)\n",
      "  min/max:  -2.0 26.0\n",
      "A:\n",
      "  shape:  (4, 2)\n",
      "  min/max:  -6.0 26.0\n",
      "\n",
      "Segmentation and Labeling Problem initialization:\n",
      "  Number of nodes:  4\n",
      "  Number of labels:  2\n",
      "  Maximum number of segments:  2\n"
     ]
    }
   ],
   "source": [
    "from SegmentationAndLabeling_NEW_VERSION import SegmentationAndLabeling\n",
    "\n",
    "# read the data\n",
    "with open(\"018340451_hipster_SegLabelData.pickle\", \"rb\") as f:\n",
    "    segLabel = pickle.load(f)\n",
    "\n",
    "# beta_dc_d'c'u\n",
    "B = segLabel.betas.copy()\n",
    "B = np.nan_to_num(B, nan=0.0)\n",
    "B_max = np.max(B)\n",
    "\n",
    "print(\"B:\")\n",
    "print(\"  shape: \", np.shape(B))\n",
    "print(\"  min/max: \", np.min(B), B_max)\n",
    "\n",
    "# alpha_dc\n",
    "A = segLabel.alphas.copy()\n",
    "A = np.nan_to_num(A, nan=0.0)\n",
    "A_max = B_max\n",
    "A[A > A_max] = A_max  # truncate too high values\n",
    "\n",
    "print(\"A:\")\n",
    "print(\"  shape: \", np.shape(A))\n",
    "print(\"  min/max: \", np.min(A), np.max(A))\n",
    "print(\"\")\n",
    "\n",
    "max_num_segments = segLabel.max_num_persons\n",
    "suppress = False\n",
    "\n",
    "model = SegmentationAndLabeling(\n",
    "    A=A, B=B,\n",
    "    max_num_segments=max_num_segments,\n",
    "    class_reindex={v: k for k, v in segLabel.map_DNNclass_reindex.items()},\n",
    "    suppress=suppress\n",
    ")"
   ]
  },
  {
   "cell_type": "markdown",
   "id": "a8713bf7-4423-4f24-8b80-ffcdd06b7058",
   "metadata": {},
   "source": [
    "### Classical (reference) solution"
   ]
  },
  {
   "cell_type": "code",
   "execution_count": 4,
   "id": "cb985fba-89cc-43e4-b0ed-c2cae632f120",
   "metadata": {},
   "outputs": [
    {
     "name": "stdout",
     "output_type": "stream",
     "text": [
      "automatic C=max(B)= 26.0\n",
      "Model: Segmentation and Labeling\n",
      " - number of variables: 16\n",
      "   - binary=16, integer=0, continuous=0\n",
      " - number of constraints: 0\n",
      "   - linear=0\n",
      " - parameters: defaults\n",
      " - objective: minimize quadratic\n",
      " - problem type is: MIQP\n",
      "objective: -15.000\n",
      "status: OPTIMAL_SOLUTION(2)\n",
      "  x_0_0_0=1\n",
      "  x_1_0_1=1\n",
      "  x_2_1_0=1\n",
      "  x_3_1_1=1\n"
     ]
    }
   ],
   "source": [
    "C = B_max\n",
    "\n",
    "# Build the DOcplex model of the S&L problem\n",
    "mdl = model.build_model(C=C)  # enable constraints\n",
    "mdl.solve()\n",
    "mdl.print_information()\n",
    "mdl.print_solution()\n",
    "\n",
    "x = np.zeros(mdl.number_of_binary_variables)\n",
    "for v in mdl.iter_binary_vars():\n",
    "    x[v.index] = v.solution_value\n",
    "# print(x)\n",
    "\n",
    "obj_exact = mdl.objective_value\n",
    "x_exact = x"
   ]
  },
  {
   "cell_type": "code",
   "execution_count": 5,
   "id": "0a0e32b9-831f-41ec-a7e6-0029c7a97d8d",
   "metadata": {
    "tags": []
   },
   "outputs": [
    {
     "data": {
      "image/png": "[encoded data removed]",
      "text/plain": [
       "<Figure size 500x500 with 1 Axes>"
      ]
     },
     "metadata": {},
     "output_type": "display_data"
    }
   ],
   "source": [
    "fig = plt.figure(figsize=(5, 5), frameon=False)\n",
    "ax = fig.add_subplot(1, 1, 1)  # nrows, ncols, index\n",
    "ax.set_facecolor(\"lightcyan\")\n",
    "\n",
    "model.draw_solution(\n",
    "    ax,\n",
    "    x_exact,\n",
    "    node_size=1000,\n",
    "    width=2,\n",
    "    alpha=1.0,\n",
    ")\n",
    "\n",
    "plt.show()"
   ]
  },
  {
   "cell_type": "markdown",
   "id": "e276c431-be2d-4fb1-a71b-4720027cca5b",
   "metadata": {},
   "source": [
    "### QUBO matrix setup"
   ]
  },
  {
   "cell_type": "code",
   "execution_count": 6,
   "id": "8e46b057-fc10-4435-9639-1e3e8ff06382",
   "metadata": {},
   "outputs": [
    {
     "name": "stdout",
     "output_type": "stream",
     "text": [
      "Offset: 7.163934426229508\n"
     ]
    }
   ],
   "source": [
    "mdl_qp = from_docplex_mp(mdl)\n",
    "# print(mdl_qp.prettyprint())\n",
    "\n",
    "mdl_qubo = QuadraticProgramToQubo().convert(mdl_qp)\n",
    "\n",
    "qubitOp, offset = mdl_qubo.to_ising()\n",
    "\n",
    "if True:\n",
    "    # normalize the Hamiltonian\n",
    "    w_max = np.max(np.abs(qubitOp.primitive.coeffs))\n",
    "    qubitOp.primitive.coeffs /= w_max\n",
    "    offset /= w_max\n",
    "\n",
    "print(\"Offset:\", offset)\n",
    "# print(\"Ising Hamiltonian:\\n\", str(qubitOp))"
   ]
  },
  {
   "cell_type": "code",
   "execution_count": 7,
   "id": "7e995537-f023-4410-9e66-273c171937de",
   "metadata": {},
   "outputs": [
    {
     "name": "stdout",
     "output_type": "stream",
     "text": [
      "Number of quadratic terms:  70\n",
      "QUBO matrix sparsity:  0.5833333333333334\n"
     ]
    }
   ],
   "source": [
    "# QUBO matrix info\n",
    "q2 = mdl_qubo.objective.quadratic.to_dict()\n",
    "num_qubits = qubitOp.num_qubits\n",
    "num_q2 = len(q2) - num_qubits\n",
    "print(\"Number of quadratic terms: \", num_q2)\n",
    "print(\"QUBO matrix sparsity: \", num_q2 / (num_qubits * (num_qubits - 1) * 0.5))"
   ]
  },
  {
   "cell_type": "markdown",
   "id": "a35ebedf-a11c-4fcb-9506-1a7807aec70e",
   "metadata": {},
   "source": [
    "## QAOA"
   ]
  },
  {
   "cell_type": "code",
   "execution_count": 8,
   "id": "9c20b0ce-371f-4ae1-b950-b6e8dd1cf004",
   "metadata": {
    "tags": []
   },
   "outputs": [],
   "source": [
    "n_shots = 1024\n",
    "\n",
    "seed = 12345\n",
    "algorithm_globals.random_seed = seed\n",
    "backend = Aer.get_backend(\"qasm_simulator\")\n",
    "quantum_instance = QuantumInstance(\n",
    "    backend, seed_simulator=seed, seed_transpiler=seed, shots=n_shots\n",
    ")"
   ]
  },
  {
   "cell_type": "code",
   "execution_count": 9,
   "id": "33d49d53-f1ec-427e-a72d-0ab410f95362",
   "metadata": {
    "tags": []
   },
   "outputs": [],
   "source": [
    "from mixers import x_mixer_initial_state\n",
    "\n",
    "initial_state = x_mixer_initial_state(qubitOp.num_qubits)\n",
    "# print(initial_state.draw())"
   ]
  },
  {
   "cell_type": "code",
   "execution_count": 10,
   "id": "ab0ec464-944d-4c7d-be90-a404d76461d3",
   "metadata": {
    "tags": []
   },
   "outputs": [],
   "source": [
    "from mixers import x_mixer\n",
    "\n",
    "mixer = x_mixer(qubitOp.num_qubits)\n",
    "# print(mixer.draw())"
   ]
  },
  {
   "cell_type": "code",
   "execution_count": 16,
   "id": "91ef533e-97eb-4465-a171-c090cd147a10",
   "metadata": {
    "tags": []
   },
   "outputs": [
    {
     "name": "stdout",
     "output_type": "stream",
     "text": [
      "Initial parameters:  [0.46875 0.40625 0.34375 0.28125 0.21875 0.15625 0.09375 0.03125 0.125\n",
      " 0.375   0.625   0.875   1.125   1.375   1.625   1.875  ]\n",
      "Optimized parameters:  [0.500074758513164, 0.5262269479977323, 0.32041662085724343, 0.23573905116253235, 0.17939729570557375, 0.13926703396680018, 0.13537516719735967, 0.07447730405564917, 0.16584762863747096, 0.337924431156343, 0.621910222976358, 0.882119828654567, 1.146469673723236, 1.4153089077664085, 1.6241089475561128, 1.8831654594996008]\n"
     ]
    }
   ],
   "source": [
    "reps = 8\n",
    "\n",
    "qc = QAOAAnsatz(\n",
    "    qubitOp, reps=reps, \n",
    "    initial_state=initial_state, \n",
    "    mixer_operator=mixer\n",
    ")\n",
    "\n",
    "init_params = linear_ramp_params_customized(p=reps, beta_scale=0.5, gamma_scale=2.0)\n",
    "print(\"Initial parameters: \", params)\n",
    "\n",
    "qaoa = VQE(\n",
    "    ansatz=qc,\n",
    "    quantum_instance=quantum_instance,\n",
    "    optimizer=COBYLA(maxiter=1000, tol=1e-4),\n",
    "    initial_point=init_params,\n",
    ")\n",
    "\n",
    "qaoa_results = qaoa.compute_minimum_eigenvalue(qubitOp)\n",
    "\n",
    "params = list(qaoa_results.optimal_parameters.values())\n",
    "print(\"Optimized parameters: \", params)"
   ]
  },
  {
   "cell_type": "code",
   "execution_count": 21,
   "id": "a9f343ae-d714-448a-b081-948a52617c25",
   "metadata": {
    "tags": []
   },
   "outputs": [
    {
     "name": "stdout",
     "output_type": "stream",
     "text": [
      "Success probability:  0.1119\n"
     ]
    }
   ],
   "source": [
    "n_reads = 10_000\n",
    "\n",
    "# QAOA circuit sampler\n",
    "counts = get_counts(\n",
    "    qc,\n",
    "    params,\n",
    "    backend=backend,\n",
    "    n_shots=n_reads,\n",
    "    seed=seed,\n",
    ")\n",
    "\n",
    "sols = []\n",
    "for s, p in counts.items():\n",
    "    x = [int(i) for i in reversed(list(s))]\n",
    "    obj = mdl_qubo.objective.evaluate(x)\n",
    "    sols.append({\"x\": x, \"prob\": p / n_reads, \"obj\": obj, \"feas\": model.is_valid(x)})\n",
    "sols = sorted(sols, key=lambda k: k[\"obj\"]) # sort by objective values\n",
    "\n",
    "# compute success probability\n",
    "sprob = np.sum([item['prob'] for item in sols if np.isclose(item['obj'], obj_exact)])\n",
    "print(\"Success probability: \", sprob)"
   ]
  },
  {
   "cell_type": "code",
   "execution_count": 19,
   "id": "4cc63954-c54b-457c-8d07-af29f9d1f533",
   "metadata": {},
   "outputs": [
    {
     "data": {
      "image/png": "[encoded data removed]",
      "text/plain": [
       "<Figure size 1100x500 with 2 Axes>"
      ]
     },
     "metadata": {},
     "output_type": "display_data"
    }
   ],
   "source": [
    "fig, ax = plt.subplots(1, 2, figsize=(11, 5))\n",
    "\n",
    "objs = [v[\"obj\"] for v in sols]\n",
    "probs = [v[\"prob\"] for v in sols]\n",
    "\n",
    "objs_feas = [v[\"obj\"] for v in sols if v[\"feas\"]]\n",
    "probs_feas = [v[\"prob\"] for v in sols if v[\"feas\"]]\n",
    "\n",
    "ax[0].plot(objs, c=\"k\", lw=2, label=\"neal\")\n",
    "ax[0].set_xlabel(\"Solutions\", fontsize=18)\n",
    "ax[0].set_ylabel(\"Objective\", fontsize=18)\n",
    "\n",
    "width = 0.5\n",
    "ax[1].bar(objs, probs, width=width, color=\"grey\", alpha=0.9)\n",
    "ax[1].bar(objs_feas, probs_feas, width=width, color=\"b\", alpha=0.9)\n",
    "ax[1].set_xlabel(\"Objective\", fontsize=18)\n",
    "ax[1].set_ylabel(\"Probability\", fontsize=18)\n",
    "\n",
    "ax[1].axvline(x=obj_exact, c=\"k\", ls=\":\", lw=3)\n",
    "ax[1].set_xlim([-20, 50])\n",
    "\n",
    "plt.tight_layout()\n",
    "plt.show()"
   ]
  },
  {
   "cell_type": "code",
   "execution_count": 20,
   "id": "407491b1-2a92-4a01-8eba-53701f46fc89",
   "metadata": {
    "tags": []
   },
   "outputs": [
    {
     "data": {
      "image/png": "[encoded data removed]",
      "text/plain": [
       "<Figure size 500x500 with 1 Axes>"
      ]
     },
     "metadata": {},
     "output_type": "display_data"
    }
   ],
   "source": [
    "fig = plt.figure(figsize=(5, 5), frameon=False)\n",
    "ax = fig.add_subplot(1, 1, 1)  # nrows, ncols, index\n",
    "ax.set_facecolor(\"lightcyan\")\n",
    "\n",
    "model.draw_solution(\n",
    "    ax,\n",
    "    sols[0]['x'],\n",
    "    node_size=1000,\n",
    "    width=2,\n",
    "    alpha=1.0,\n",
    ")\n",
    "\n",
    "plt.show()"
   ]
  },
  {
   "cell_type": "code",
   "execution_count": null,
   "id": "b1585726-c2ae-4ca8-8120-633a19b64c22",
   "metadata": {},
   "outputs": [],
   "source": []
  }
 ],
 "metadata": {
  "kernelspec": {
   "display_name": "dwave",
   "language": "python",
   "name": "dwave"
  },
  "language_info": {
   "codemirror_mode": {
    "name": "ipython",
    "version": 3
   },
   "file_extension": ".py",
   "mimetype": "text/x-python",
   "name": "python",
   "nbconvert_exporter": "python",
   "pygments_lexer": "ipython3",
   "version": "3.10.9"
  }
 },
 "nbformat": 4,
 "nbformat_minor": 5
}
