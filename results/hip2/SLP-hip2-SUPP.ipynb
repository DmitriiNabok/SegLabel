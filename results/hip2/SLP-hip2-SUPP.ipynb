{
 "cells": [
  {
   "cell_type": "code",
   "execution_count": 1,
   "id": "3dc518b3-756d-4c01-8096-1f0d6fd4b737",
   "metadata": {},
   "outputs": [],
   "source": [
    "import numpy as np\n",
    "import pickle\n",
    "import matplotlib.pyplot as plt\n",
    "from PIL import Image, ImageOps\n",
    "from collections import Counter\n",
    "import time\n",
    "\n",
    "import sys, os\n",
    "\n",
    "sys.path.append(os.path.abspath(\"../../src\"))\n",
    "\n",
    "from SegLabel import SegLabel\n",
    "from docplex.mp.model import Model\n",
    "from dwave_utils import plot_qubo_matrix\n",
    "\n",
    "from dimod import BinaryQuadraticModel\n",
    "from tabu import TabuSampler\n",
    "\n",
    "%load_ext lab_black"
   ]
  },
  {
   "cell_type": "code",
   "execution_count": 2,
   "id": "fd36bff6-6b85-4509-bfea-189a6690c063",
   "metadata": {},
   "outputs": [],
   "source": [
    "def build_qubo_matrix(mdl: Model, norm: bool = True):\n",
    "    \"\"\"Extract the QUBO matrix and optionally normalize it.\"\"\"\n",
    "    Q = dict()\n",
    "    Q.update(\n",
    "        {\n",
    "            (a.index, b.index): coef\n",
    "            for a, b, coef in mdl.objective_expr.iter_quad_triplets()\n",
    "        }\n",
    "    )\n",
    "    for a, coef in mdl.objective_expr.iter_terms():\n",
    "        key = (a.index, a.index)\n",
    "        if key in Q:\n",
    "            Q[key] += coef\n",
    "        else:\n",
    "            Q[key] = coef\n",
    "    offset = mdl.objective_expr.constant\n",
    "\n",
    "    if norm:\n",
    "        weights = np.unique(np.abs(list(Q.values())))\n",
    "        max_w = np.max(weights)\n",
    "        # print(max_w)\n",
    "        for key in Q.keys():\n",
    "            Q[key] /= max_w\n",
    "        offset /= max_w\n",
    "\n",
    "    return Q, offset"
   ]
  },
  {
   "cell_type": "markdown",
   "id": "b1b017da-1216-4a92-8cda-a0bba93105ba",
   "metadata": {
    "tags": []
   },
   "source": [
    "## Model"
   ]
  },
  {
   "cell_type": "code",
   "execution_count": 3,
   "id": "15895992-1974-489d-980f-c3458ba69fb5",
   "metadata": {
    "tags": []
   },
   "outputs": [
    {
     "name": "stdout",
     "output_type": "stream",
     "text": [
      "B:\n",
      "  shape:  (6, 6, 2, 2)\n",
      "  min/max:  -6.0 116.0\n",
      "A:\n",
      "  shape:  (6, 2)\n",
      "  min/max:  0.0 116.0\n",
      "\n"
     ]
    }
   ],
   "source": [
    "from SegmentationAndLabeling import SegmentationAndLabeling\n",
    "\n",
    "# read the data\n",
    "with open(\"024185229_hipsterDoubleHead_SegLabelData.pickle\", \"rb\") as f:\n",
    "    segLabel = pickle.load(f)\n",
    "\n",
    "# beta_dc_d'c'u\n",
    "B = segLabel.betas.copy()\n",
    "B = np.nan_to_num(B, nan=0.0)\n",
    "B_max = np.max(B)\n",
    "\n",
    "print(\"B:\")\n",
    "print(\"  shape: \", np.shape(B))\n",
    "print(\"  min/max: \", np.min(B), B_max)\n",
    "\n",
    "# alpha_dc\n",
    "A = segLabel.alphas.copy()\n",
    "A = np.nan_to_num(A, nan=0.0)\n",
    "A_max = B_max\n",
    "A[A > A_max] = A_max  # truncate too high values\n",
    "\n",
    "print(\"A:\")\n",
    "print(\"  shape: \", np.shape(A))\n",
    "print(\"  min/max: \", np.min(A), np.max(A))\n",
    "print(\"\")"
   ]
  },
  {
   "cell_type": "markdown",
   "id": "19566068-94fe-4e8f-9dd8-4b428d1b8bf4",
   "metadata": {},
   "source": [
    "## S_max = 1"
   ]
  },
  {
   "cell_type": "code",
   "execution_count": 4,
   "id": "79e002a6-eda5-42ac-945b-d1bd4eedb8fc",
   "metadata": {},
   "outputs": [
    {
     "name": "stdout",
     "output_type": "stream",
     "text": [
      "Segmentation and Labeling Problem initialization:\n",
      "  Number of nodes:  6\n",
      "  Number of labels:  2\n",
      "  Maximum number of segments (+1 for suppressed detections):  2\n"
     ]
    }
   ],
   "source": [
    "max_num_segments = 1\n",
    "suppress = True\n",
    "\n",
    "model = SegmentationAndLabeling(\n",
    "    A=A,\n",
    "    B=B,\n",
    "    max_num_segments=max_num_segments,\n",
    "    class_reindex={v: k for k, v in segLabel.map_DNNclass_reindex.items()},\n",
    "    suppress=suppress,\n",
    ")"
   ]
  },
  {
   "cell_type": "markdown",
   "id": "050d237d-515f-4295-8654-67118c5969ff",
   "metadata": {},
   "source": [
    "### CPLEX"
   ]
  },
  {
   "cell_type": "code",
   "execution_count": 5,
   "id": "11a7eb59-ca0f-48a2-b271-c83c312ad329",
   "metadata": {},
   "outputs": [
    {
     "name": "stdout",
     "output_type": "stream",
     "text": [
      "automatic C=max(B) = 116.0\n",
      "Model: Segmentation and Labeling\n",
      " - number of variables: 24\n",
      "   - binary=24, integer=0, continuous=0\n",
      " - number of constraints: 0\n",
      "   - linear=0\n",
      " - parameters: defaults\n",
      " - objective: minimize quadratic\n",
      " - problem type is: MIQP\n",
      "objective: -6.000\n",
      "status: OPTIMAL_SOLUTION(2)\n",
      "  x_0_0_1=1\n",
      "  x_1_0_1=1\n",
      "  x_2_1_0=1\n",
      "  x_3_0_1=1\n",
      "  x_4_1_0=1\n",
      "  x_5_0_1=1\n"
     ]
    }
   ],
   "source": [
    "mdl = model.build_model()\n",
    "mdl.solve()\n",
    "mdl.print_information()\n",
    "mdl.print_solution()"
   ]
  },
  {
   "cell_type": "code",
   "execution_count": 6,
   "id": "b470984d-a8d5-4a3f-8d44-eb8d1f80cf01",
   "metadata": {},
   "outputs": [
    {
     "data": {
      "image/png": "[encoded data removed]",
      "text/plain": [
       "<Figure size 500x500 with 1 Axes>"
      ]
     },
     "metadata": {},
     "output_type": "display_data"
    }
   ],
   "source": [
    "x = np.zeros(mdl.number_of_binary_variables)\n",
    "for v in mdl.iter_binary_vars():\n",
    "    x[v.index] = v.solution_value\n",
    "\n",
    "fig = plt.figure(figsize=(5, 5), frameon=False)\n",
    "ax = fig.add_subplot(1, 1, 1)  # nrows, ncols, index\n",
    "ax.set_facecolor(\"lightcyan\")\n",
    "\n",
    "model.draw_solution(\n",
    "    ax,\n",
    "    x,\n",
    "    node_size=1000,\n",
    "    width=3,\n",
    "    alpha=1.0,\n",
    ")\n",
    "plt.show()"
   ]
  },
  {
   "cell_type": "markdown",
   "id": "d4905d19-679f-4e46-b8b2-297dd97c046d",
   "metadata": {},
   "source": [
    "### QUBO"
   ]
  },
  {
   "cell_type": "code",
   "execution_count": 7,
   "id": "eb6ca45a-37c9-4181-885e-da369df1cf63",
   "metadata": {},
   "outputs": [
    {
     "name": "stdout",
     "output_type": "stream",
     "text": [
      "\n",
      ">>>> QUBO setup: 0.0001 seconds\n",
      ">>>> BQM setup: 0.0003 seconds\n"
     ]
    }
   ],
   "source": [
    "tic = time.perf_counter()\n",
    "Q, offset = build_qubo_matrix(mdl, norm=False)\n",
    "toc = time.perf_counter()\n",
    "print(f\"\\n>>>> QUBO setup: {toc - tic:0.4f} seconds\")\n",
    "\n",
    "tic = time.perf_counter()\n",
    "bqm = BinaryQuadraticModel.from_qubo(Q, offset=offset)\n",
    "toc = time.perf_counter()\n",
    "print(f\">>>> BQM setup: {toc - tic:0.4f} seconds\")"
   ]
  },
  {
   "cell_type": "code",
   "execution_count": 8,
   "id": "d194e38d-f24d-4aa5-b734-7de6677b709b",
   "metadata": {
    "tags": []
   },
   "outputs": [
    {
     "name": "stdout",
     "output_type": "stream",
     "text": [
      "Number of QUBO variables:  24\n",
      "Number of QUBO interactions:  94\n",
      "Matrix sparsity:  0.34057971014492755\n",
      "Energy offset: 696.0\n"
     ]
    }
   ],
   "source": [
    "print(\"Number of QUBO variables: \", bqm.num_variables)\n",
    "print(\"Number of QUBO interactions: \", bqm.num_interactions)\n",
    "print(\n",
    "    \"Matrix sparsity: \",\n",
    "    bqm.num_interactions / (0.5 * bqm.num_variables * (bqm.num_variables - 1)),\n",
    ")\n",
    "print(\"Energy offset:\", bqm.offset)"
   ]
  },
  {
   "cell_type": "code",
   "execution_count": 9,
   "id": "4eb3f7e2-c2e7-46ef-9b16-6eb78701a2d4",
   "metadata": {
    "tags": []
   },
   "outputs": [
    {
     "data": {
      "image/png": "[encoded data removed]",
      "text/plain": [
       "<Figure size 1100x600 with 2 Axes>"
      ]
     },
     "metadata": {},
     "output_type": "display_data"
    }
   ],
   "source": [
    "plot_qubo_matrix(Q, vmin=-100, vmax=100)"
   ]
  },
  {
   "cell_type": "code",
   "execution_count": 10,
   "id": "10870905-8ae3-4a0e-ac17-70d32f4cbf8d",
   "metadata": {},
   "outputs": [
    {
     "name": "stdout",
     "output_type": "stream",
     "text": [
      "Avg execution time (per run):  1.0031163340026978\n"
     ]
    }
   ],
   "source": [
    "t0 = time.perf_counter()\n",
    "\n",
    "sampler = TabuSampler()\n",
    "\n",
    "n_runs = 1\n",
    "n_reads = 1\n",
    "\n",
    "np.random.seed(1234)\n",
    "seeds = np.random.randint(2**16 - 1, size=n_runs)\n",
    "\n",
    "sols = Counter(dict())\n",
    "for _seed in seeds:\n",
    "    sampleset = sampler.sample(\n",
    "        bqm,\n",
    "        num_reads=n_reads,\n",
    "        seed=_seed,\n",
    "        timeout=1_000,  # in ms\n",
    "        num_restarts=1_000_000,\n",
    "        energy_threshhold=1e-4,\n",
    "    )\n",
    "    for data in sampleset.aggregate().data():\n",
    "        x = list(data.sample.values())\n",
    "        x_str = \"\".join([str(int(i)) for i in x])\n",
    "        sols += Counter({x_str: data.num_occurrences})\n",
    "\n",
    "sols = dict(sols)\n",
    "\n",
    "t1 = time.perf_counter()\n",
    "print(\"Avg execution time (per run): \", (t1 - t0) / n_runs)"
   ]
  },
  {
   "cell_type": "code",
   "execution_count": 11,
   "id": "98d6b1f8-7162-41c5-84cc-21ca18b02070",
   "metadata": {},
   "outputs": [
    {
     "name": "stdout",
     "output_type": "stream",
     "text": [
      "Total number of solutions:  1\n",
      "Objective:\n",
      "  min:  -6.0\n",
      "  max:  -6.0\n",
      "  median:  -6.0\n",
      "  mean:  -6.0\n",
      "  std:  0.0\n",
      "Lowest solution:\n",
      "  objective:  -6.0\n",
      "  probability:   1.0\n",
      "  feasible:   True\n"
     ]
    }
   ],
   "source": [
    "print(\"Total number of solutions: \", len(sols))\n",
    "\n",
    "# extract solution info into dictionary\n",
    "results = []\n",
    "\n",
    "for s, p in sols.items():\n",
    "    x = [int(i) for i in s]\n",
    "    obj = bqm.energy(x)\n",
    "    results.append(\n",
    "        {\n",
    "            \"x\": x,\n",
    "            \"obj\": obj,\n",
    "            \"prob\": p / (n_reads * n_runs),\n",
    "            \"feas\": model.is_valid(x),\n",
    "        }\n",
    "    )\n",
    "\n",
    "results = sorted(results, key=lambda k: k[\"obj\"])\n",
    "\n",
    "obj = [s[\"obj\"] for s in results]\n",
    "print(f\"Objective:\")\n",
    "print(f\"  min: \", np.min(obj))\n",
    "print(f\"  max: \", np.max(obj))\n",
    "print(f\"  median: \", np.median(obj))\n",
    "print(f\"  mean: \", np.mean(obj))\n",
    "print(f\"  std: \", np.std(obj))\n",
    "\n",
    "print(\"Lowest solution:\")\n",
    "print(f\"  objective: \", results[0][\"obj\"])\n",
    "print(f\"  probability:  \", results[0][\"prob\"])\n",
    "print(f\"  feasible:  \", results[0][\"feas\"])"
   ]
  },
  {
   "cell_type": "code",
   "execution_count": 12,
   "id": "0503580f-bdf0-48e6-89c2-031dc6cafba2",
   "metadata": {},
   "outputs": [
    {
     "data": {
      "image/png": "[encoded data removed]",
      "text/plain": [
       "<Figure size 500x500 with 1 Axes>"
      ]
     },
     "metadata": {},
     "output_type": "display_data"
    }
   ],
   "source": [
    "fig = plt.figure(figsize=(5, 5), frameon=False)\n",
    "ax = fig.add_subplot(1, 1, 1)  # nrows, ncols, index\n",
    "ax.set_facecolor(\"lightcyan\")\n",
    "\n",
    "model.draw_solution(\n",
    "    ax,\n",
    "    results[0][\"x\"],\n",
    "    node_size=1000,\n",
    "    width=3,\n",
    "    alpha=1.0,\n",
    ")\n",
    "plt.show()"
   ]
  },
  {
   "cell_type": "markdown",
   "id": "943be171-0b46-49d4-9543-3b4223a5f93f",
   "metadata": {},
   "source": [
    "## S_max = 2"
   ]
  },
  {
   "cell_type": "code",
   "execution_count": 13,
   "id": "c32ab5a8-bc5f-4851-a0fb-fb43d293a284",
   "metadata": {},
   "outputs": [
    {
     "name": "stdout",
     "output_type": "stream",
     "text": [
      "Segmentation and Labeling Problem initialization:\n",
      "  Number of nodes:  6\n",
      "  Number of labels:  2\n",
      "  Maximum number of segments (+1 for suppressed detections):  3\n"
     ]
    }
   ],
   "source": [
    "max_num_segments = 2\n",
    "suppress = True\n",
    "\n",
    "model = SegmentationAndLabeling(\n",
    "    A=A,\n",
    "    B=B,\n",
    "    max_num_segments=max_num_segments,\n",
    "    class_reindex={v: k for k, v in segLabel.map_DNNclass_reindex.items()},\n",
    "    suppress=suppress,\n",
    ")"
   ]
  },
  {
   "cell_type": "markdown",
   "id": "a8c59c10-1ba0-4bb7-8568-b2628a9e932c",
   "metadata": {},
   "source": [
    "### CPLEX"
   ]
  },
  {
   "cell_type": "code",
   "execution_count": 14,
   "id": "a0e07bd4-0c89-4e7a-a67f-d3bc380a0fb8",
   "metadata": {},
   "outputs": [
    {
     "name": "stdout",
     "output_type": "stream",
     "text": [
      "automatic C=max(B) = 116.0\n",
      "Model: Segmentation and Labeling\n",
      " - number of variables: 36\n",
      "   - binary=36, integer=0, continuous=0\n",
      " - number of constraints: 0\n",
      "   - linear=0\n",
      " - parameters: defaults\n",
      " - objective: minimize quadratic\n",
      " - problem type is: MIQP\n",
      "objective: -8.000\n",
      "status: OPTIMAL_SOLUTION(2)\n",
      "  x_0_0_2=1\n",
      "  x_1_0_2=1\n",
      "  x_2_1_0=1\n",
      "  x_3_1_1=1\n",
      "  x_4_1_0=1\n",
      "  x_5_1_1=1\n"
     ]
    }
   ],
   "source": [
    "mdl = model.build_model()\n",
    "mdl.solve()\n",
    "mdl.print_information()\n",
    "mdl.print_solution()"
   ]
  },
  {
   "cell_type": "code",
   "execution_count": 15,
   "id": "eea4161b-016b-42b9-b822-5ceb442d2958",
   "metadata": {},
   "outputs": [
    {
     "data": {
      "image/png": "[encoded data removed]",
      "text/plain": [
       "<Figure size 500x500 with 1 Axes>"
      ]
     },
     "metadata": {},
     "output_type": "display_data"
    }
   ],
   "source": [
    "x = np.zeros(mdl.number_of_binary_variables)\n",
    "for v in mdl.iter_binary_vars():\n",
    "    x[v.index] = v.solution_value\n",
    "\n",
    "fig = plt.figure(figsize=(5, 5), frameon=False)\n",
    "ax = fig.add_subplot(1, 1, 1)  # nrows, ncols, index\n",
    "ax.set_facecolor(\"lightcyan\")\n",
    "\n",
    "model.draw_solution(\n",
    "    ax,\n",
    "    x,\n",
    "    node_size=1000,\n",
    "    width=3,\n",
    "    alpha=1.0,\n",
    ")\n",
    "plt.show()"
   ]
  },
  {
   "cell_type": "markdown",
   "id": "a6490587-017b-4547-a499-9694b9f2b87c",
   "metadata": {},
   "source": [
    "### QUBO"
   ]
  },
  {
   "cell_type": "code",
   "execution_count": 16,
   "id": "1880d2df-7000-42e0-900d-3c34c05c47bb",
   "metadata": {},
   "outputs": [
    {
     "name": "stdout",
     "output_type": "stream",
     "text": [
      "\n",
      ">>>> QUBO setup: 0.0002 seconds\n",
      ">>>> BQM setup: 0.0003 seconds\n"
     ]
    }
   ],
   "source": [
    "tic = time.perf_counter()\n",
    "Q, offset = build_qubo_matrix(mdl, norm=False)\n",
    "toc = time.perf_counter()\n",
    "print(f\"\\n>>>> QUBO setup: {toc - tic:0.4f} seconds\")\n",
    "\n",
    "tic = time.perf_counter()\n",
    "bqm = BinaryQuadraticModel.from_qubo(Q, offset=offset)\n",
    "toc = time.perf_counter()\n",
    "print(f\">>>> BQM setup: {toc - tic:0.4f} seconds\")"
   ]
  },
  {
   "cell_type": "code",
   "execution_count": 17,
   "id": "8ed7f84d-dd8a-4cd4-83e8-36222dd1f5bb",
   "metadata": {
    "tags": []
   },
   "outputs": [
    {
     "name": "stdout",
     "output_type": "stream",
     "text": [
      "Number of QUBO variables:  36\n",
      "Number of QUBO interactions:  206\n",
      "Matrix sparsity:  0.326984126984127\n",
      "Energy offset: 696.0\n"
     ]
    }
   ],
   "source": [
    "print(\"Number of QUBO variables: \", bqm.num_variables)\n",
    "print(\"Number of QUBO interactions: \", bqm.num_interactions)\n",
    "print(\n",
    "    \"Matrix sparsity: \",\n",
    "    bqm.num_interactions / (0.5 * bqm.num_variables * (bqm.num_variables - 1)),\n",
    ")\n",
    "print(\"Energy offset:\", bqm.offset)"
   ]
  },
  {
   "cell_type": "code",
   "execution_count": 18,
   "id": "555d7b74-b3ca-4c60-a978-709d680a983c",
   "metadata": {
    "tags": []
   },
   "outputs": [
    {
     "data": {
      "image/png": "[encoded data removed]",
      "text/plain": [
       "<Figure size 1100x600 with 2 Axes>"
      ]
     },
     "metadata": {},
     "output_type": "display_data"
    }
   ],
   "source": [
    "plot_qubo_matrix(Q, vmin=-100, vmax=100)"
   ]
  },
  {
   "cell_type": "code",
   "execution_count": 19,
   "id": "57359abd-7483-4b5e-a641-682a17647e48",
   "metadata": {},
   "outputs": [
    {
     "name": "stdout",
     "output_type": "stream",
     "text": [
      "Avg execution time (per run):  1.0033746249973774\n"
     ]
    }
   ],
   "source": [
    "t0 = time.perf_counter()\n",
    "\n",
    "sampler = TabuSampler()\n",
    "\n",
    "n_runs = 1\n",
    "n_reads = 1\n",
    "\n",
    "np.random.seed(1234)\n",
    "seeds = np.random.randint(2**16 - 1, size=n_runs)\n",
    "\n",
    "sols = Counter(dict())\n",
    "for _seed in seeds:\n",
    "    sampleset = sampler.sample(\n",
    "        bqm,\n",
    "        num_reads=n_reads,\n",
    "        seed=_seed,\n",
    "        timeout=1_000,  # in ms\n",
    "        num_restarts=1_000_000,\n",
    "        energy_threshhold=1e-4,\n",
    "    )\n",
    "    for data in sampleset.aggregate().data():\n",
    "        x = list(data.sample.values())\n",
    "        x_str = \"\".join([str(int(i)) for i in x])\n",
    "        sols += Counter({x_str: data.num_occurrences})\n",
    "\n",
    "sols = dict(sols)\n",
    "\n",
    "t1 = time.perf_counter()\n",
    "print(\"Avg execution time (per run): \", (t1 - t0) / n_runs)"
   ]
  },
  {
   "cell_type": "code",
   "execution_count": 20,
   "id": "29900e05-714f-4cf4-a7d3-3ad316796fab",
   "metadata": {},
   "outputs": [
    {
     "name": "stdout",
     "output_type": "stream",
     "text": [
      "Total number of solutions:  1\n",
      "Objective:\n",
      "  min:  -8.0\n",
      "  max:  -8.0\n",
      "  median:  -8.0\n",
      "  mean:  -8.0\n",
      "  std:  0.0\n",
      "Lowest solution:\n",
      "  objective:  -8.0\n",
      "  probability:   1.0\n",
      "  feasible:   True\n"
     ]
    }
   ],
   "source": [
    "print(\"Total number of solutions: \", len(sols))\n",
    "\n",
    "# extract solution info into dictionary\n",
    "results = []\n",
    "\n",
    "for s, p in sols.items():\n",
    "    x = [int(i) for i in s]\n",
    "    obj = bqm.energy(x)\n",
    "    results.append(\n",
    "        {\n",
    "            \"x\": x,\n",
    "            \"obj\": obj,\n",
    "            \"prob\": p / (n_reads * n_runs),\n",
    "            \"feas\": model.is_valid(x),\n",
    "        }\n",
    "    )\n",
    "\n",
    "results = sorted(results, key=lambda k: k[\"obj\"])\n",
    "\n",
    "obj = [s[\"obj\"] for s in results]\n",
    "print(f\"Objective:\")\n",
    "print(f\"  min: \", np.min(obj))\n",
    "print(f\"  max: \", np.max(obj))\n",
    "print(f\"  median: \", np.median(obj))\n",
    "print(f\"  mean: \", np.mean(obj))\n",
    "print(f\"  std: \", np.std(obj))\n",
    "\n",
    "print(\"Lowest solution:\")\n",
    "print(f\"  objective: \", results[0][\"obj\"])\n",
    "print(f\"  probability:  \", results[0][\"prob\"])\n",
    "print(f\"  feasible:  \", results[0][\"feas\"])"
   ]
  },
  {
   "cell_type": "code",
   "execution_count": 21,
   "id": "933d4f36-0972-4484-835b-6c4e6d4ff8ae",
   "metadata": {},
   "outputs": [
    {
     "data": {
      "image/png": "[encoded data removed]",
      "text/plain": [
       "<Figure size 500x500 with 1 Axes>"
      ]
     },
     "metadata": {},
     "output_type": "display_data"
    }
   ],
   "source": [
    "fig = plt.figure(figsize=(5, 5), frameon=False)\n",
    "ax = fig.add_subplot(1, 1, 1)  # nrows, ncols, index\n",
    "ax.set_facecolor(\"lightcyan\")\n",
    "\n",
    "model.draw_solution(\n",
    "    ax,\n",
    "    results[0][\"x\"],\n",
    "    node_size=1000,\n",
    "    width=3,\n",
    "    alpha=1.0,\n",
    ")\n",
    "plt.show()"
   ]
  },
  {
   "cell_type": "markdown",
   "id": "914816e1-0c1d-4c22-aade-d691151ab7fb",
   "metadata": {},
   "source": [
    "## S_max = 3"
   ]
  },
  {
   "cell_type": "code",
   "execution_count": 22,
   "id": "c1b3a34d-f76a-4a7d-821d-a9bcfd7bf28e",
   "metadata": {
    "tags": []
   },
   "outputs": [
    {
     "name": "stdout",
     "output_type": "stream",
     "text": [
      "Segmentation and Labeling Problem initialization:\n",
      "  Number of nodes:  6\n",
      "  Number of labels:  2\n",
      "  Maximum number of segments (+1 for suppressed detections):  4\n"
     ]
    }
   ],
   "source": [
    "max_num_segments = 3\n",
    "suppress = True\n",
    "\n",
    "model = SegmentationAndLabeling(\n",
    "    A=A,\n",
    "    B=B,\n",
    "    max_num_segments=max_num_segments,\n",
    "    class_reindex={v: k for k, v in segLabel.map_DNNclass_reindex.items()},\n",
    "    suppress=suppress,\n",
    ")"
   ]
  },
  {
   "cell_type": "markdown",
   "id": "1d2bc410-259e-4c0e-be0e-b8726e538d17",
   "metadata": {},
   "source": [
    "### CPLEX"
   ]
  },
  {
   "cell_type": "code",
   "execution_count": 23,
   "id": "d6be3f8a-d52a-4604-8404-010fe579e0a8",
   "metadata": {
    "tags": []
   },
   "outputs": [
    {
     "name": "stdout",
     "output_type": "stream",
     "text": [
      "automatic C=max(B) = 116.0\n",
      "Model: Segmentation and Labeling\n",
      " - number of variables: 48\n",
      "   - binary=48, integer=0, continuous=0\n",
      " - number of constraints: 0\n",
      "   - linear=0\n",
      " - parameters: defaults\n",
      " - objective: minimize quadratic\n",
      " - problem type is: MIQP\n",
      "objective: -8.000\n",
      "status: OPTIMAL_SOLUTION(2)\n",
      "  x_0_0_3=1\n",
      "  x_1_0_3=1\n",
      "  x_2_1_0=1\n",
      "  x_3_1_1=1\n",
      "  x_4_1_0=1\n",
      "  x_5_1_1=1\n"
     ]
    }
   ],
   "source": [
    "mdl = model.build_model()\n",
    "mdl.solve()\n",
    "mdl.print_information()\n",
    "mdl.print_solution()"
   ]
  },
  {
   "cell_type": "code",
   "execution_count": 24,
   "id": "668fab6d-774b-4f85-95bf-09c601287cd4",
   "metadata": {
    "tags": []
   },
   "outputs": [
    {
     "data": {
      "image/png": "[encoded data removed]",
      "text/plain": [
       "<Figure size 500x500 with 1 Axes>"
      ]
     },
     "metadata": {},
     "output_type": "display_data"
    }
   ],
   "source": [
    "x = np.zeros(mdl.number_of_binary_variables)\n",
    "for v in mdl.iter_binary_vars():\n",
    "    x[v.index] = v.solution_value\n",
    "\n",
    "fig = plt.figure(figsize=(5, 5), frameon=False)\n",
    "ax = fig.add_subplot(1, 1, 1)  # nrows, ncols, index\n",
    "ax.set_facecolor(\"lightcyan\")\n",
    "\n",
    "model.draw_solution(\n",
    "    ax,\n",
    "    x,\n",
    "    node_size=1000,\n",
    "    width=3,\n",
    "    alpha=1.0,\n",
    ")\n",
    "plt.show()"
   ]
  },
  {
   "cell_type": "markdown",
   "id": "4b112702-4d0d-4aad-b9d2-ae9d3cb1ce22",
   "metadata": {},
   "source": [
    "### QUBO"
   ]
  },
  {
   "cell_type": "code",
   "execution_count": 25,
   "id": "756dff56-ae00-4a0b-9f45-2a6cffdce312",
   "metadata": {
    "tags": []
   },
   "outputs": [
    {
     "name": "stdout",
     "output_type": "stream",
     "text": [
      "\n",
      ">>>> QUBO setup: 0.0004 seconds\n",
      ">>>> BQM setup: 0.0003 seconds\n"
     ]
    }
   ],
   "source": [
    "tic = time.perf_counter()\n",
    "Q, offset = build_qubo_matrix(mdl, norm=False)\n",
    "toc = time.perf_counter()\n",
    "print(f\"\\n>>>> QUBO setup: {toc - tic:0.4f} seconds\")\n",
    "\n",
    "tic = time.perf_counter()\n",
    "bqm = BinaryQuadraticModel.from_qubo(Q, offset=offset)\n",
    "toc = time.perf_counter()\n",
    "print(f\">>>> BQM setup: {toc - tic:0.4f} seconds\")"
   ]
  },
  {
   "cell_type": "code",
   "execution_count": 26,
   "id": "d1a41ae9-7401-41d2-8250-ac1d35af111d",
   "metadata": {
    "tags": []
   },
   "outputs": [
    {
     "name": "stdout",
     "output_type": "stream",
     "text": [
      "Number of QUBO variables:  48\n",
      "Number of QUBO interactions:  342\n",
      "Matrix sparsity:  0.30319148936170215\n",
      "Energy offset: 696.0\n"
     ]
    }
   ],
   "source": [
    "print(\"Number of QUBO variables: \", bqm.num_variables)\n",
    "print(\"Number of QUBO interactions: \", bqm.num_interactions)\n",
    "print(\n",
    "    \"Matrix sparsity: \",\n",
    "    bqm.num_interactions / (0.5 * bqm.num_variables * (bqm.num_variables - 1)),\n",
    ")\n",
    "print(\"Energy offset:\", bqm.offset)"
   ]
  },
  {
   "cell_type": "code",
   "execution_count": 27,
   "id": "41a55e55-4f86-43a5-a9e0-2baa60d31141",
   "metadata": {
    "tags": []
   },
   "outputs": [
    {
     "data": {
      "image/png": "[encoded data removed]",
      "text/plain": [
       "<Figure size 1100x600 with 2 Axes>"
      ]
     },
     "metadata": {},
     "output_type": "display_data"
    }
   ],
   "source": [
    "plot_qubo_matrix(Q, vmin=-100, vmax=100)"
   ]
  },
  {
   "cell_type": "code",
   "execution_count": 28,
   "id": "2fe30e75-4f6d-42ec-aec6-dd6e025a70a1",
   "metadata": {
    "tags": []
   },
   "outputs": [
    {
     "name": "stdout",
     "output_type": "stream",
     "text": [
      "Avg execution time (per run):  1.0034785000025295\n"
     ]
    }
   ],
   "source": [
    "t0 = time.perf_counter()\n",
    "\n",
    "sampler = TabuSampler()\n",
    "\n",
    "n_runs = 1\n",
    "n_reads = 1\n",
    "\n",
    "np.random.seed(1234)\n",
    "seeds = np.random.randint(2**16 - 1, size=n_runs)\n",
    "\n",
    "sols = Counter(dict())\n",
    "for _seed in seeds:\n",
    "    sampleset = sampler.sample(\n",
    "        bqm,\n",
    "        num_reads=n_reads,\n",
    "        seed=_seed,\n",
    "        timeout=1_000,  # in ms\n",
    "        num_restarts=1_000_000,\n",
    "        energy_threshhold=1e-4,\n",
    "    )\n",
    "    for data in sampleset.aggregate().data():\n",
    "        x = list(data.sample.values())\n",
    "        x_str = \"\".join([str(int(i)) for i in x])\n",
    "        sols += Counter({x_str: data.num_occurrences})\n",
    "\n",
    "sols = dict(sols)\n",
    "\n",
    "t1 = time.perf_counter()\n",
    "print(\"Avg execution time (per run): \", (t1 - t0) / n_runs)"
   ]
  },
  {
   "cell_type": "code",
   "execution_count": 29,
   "id": "0f615817-848d-4702-92db-170b28dff405",
   "metadata": {
    "tags": []
   },
   "outputs": [
    {
     "name": "stdout",
     "output_type": "stream",
     "text": [
      "Total number of solutions:  1\n",
      "Objective:\n",
      "  min:  -8.0\n",
      "  max:  -8.0\n",
      "  median:  -8.0\n",
      "  mean:  -8.0\n",
      "  std:  0.0\n",
      "Lowest solution:\n",
      "  objective:  -8.0\n",
      "  probability:   1.0\n",
      "  feasible:   True\n"
     ]
    }
   ],
   "source": [
    "print(\"Total number of solutions: \", len(sols))\n",
    "\n",
    "# extract solution info into dictionary\n",
    "results = []\n",
    "\n",
    "for s, p in sols.items():\n",
    "    x = [int(i) for i in s]\n",
    "    obj = bqm.energy(x)\n",
    "    results.append(\n",
    "        {\n",
    "            \"x\": x,\n",
    "            \"obj\": obj,\n",
    "            \"prob\": p / (n_reads * n_runs),\n",
    "            \"feas\": model.is_valid(x),\n",
    "        }\n",
    "    )\n",
    "\n",
    "results = sorted(results, key=lambda k: k[\"obj\"])\n",
    "\n",
    "obj = [s[\"obj\"] for s in results]\n",
    "print(f\"Objective:\")\n",
    "print(f\"  min: \", np.min(obj))\n",
    "print(f\"  max: \", np.max(obj))\n",
    "print(f\"  median: \", np.median(obj))\n",
    "print(f\"  mean: \", np.mean(obj))\n",
    "print(f\"  std: \", np.std(obj))\n",
    "\n",
    "print(\"Lowest solution:\")\n",
    "print(f\"  objective: \", results[0][\"obj\"])\n",
    "print(f\"  probability:  \", results[0][\"prob\"])\n",
    "print(f\"  feasible:  \", results[0][\"feas\"])"
   ]
  },
  {
   "cell_type": "code",
   "execution_count": 30,
   "id": "1717a307-29ba-4ab1-852c-59425c563f30",
   "metadata": {
    "tags": []
   },
   "outputs": [
    {
     "data": {
      "image/png": "[encoded data removed]",
      "text/plain": [
       "<Figure size 500x500 with 1 Axes>"
      ]
     },
     "metadata": {},
     "output_type": "display_data"
    }
   ],
   "source": [
    "fig = plt.figure(figsize=(5, 5), frameon=False)\n",
    "ax = fig.add_subplot(1, 1, 1)  # nrows, ncols, index\n",
    "ax.set_facecolor(\"lightcyan\")\n",
    "\n",
    "model.draw_solution(\n",
    "    ax,\n",
    "    results[0][\"x\"],\n",
    "    node_size=1000,\n",
    "    width=3,\n",
    "    alpha=1.0,\n",
    ")\n",
    "plt.show()"
   ]
  },
  {
   "cell_type": "code",
   "execution_count": null,
   "id": "496afe10-6271-4e1c-9716-298f225b0f81",
   "metadata": {},
   "outputs": [],
   "source": []
  }
 ],
 "metadata": {
  "kernelspec": {
   "display_name": "dwave",
   "language": "python",
   "name": "dwave"
  },
  "language_info": {
   "codemirror_mode": {
    "name": "ipython",
    "version": 3
   },
   "file_extension": ".py",
   "mimetype": "text/x-python",
   "name": "python",
   "nbconvert_exporter": "python",
   "pygments_lexer": "ipython3",
   "version": "3.10.9"
  }
 },
 "nbformat": 4,
 "nbformat_minor": 5
}
